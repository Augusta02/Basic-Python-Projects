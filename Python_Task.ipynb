{
  "nbformat": 4,
  "nbformat_minor": 0,
  "metadata": {
    "colab": {
      "name": "Python Task.ipynb",
      "provenance": [],
      "authorship_tag": "ABX9TyNPqwpl6r24n0YB8JlGAWRe",
      "include_colab_link": true
    },
    "kernelspec": {
      "name": "python3",
      "display_name": "Python 3"
    },
    "language_info": {
      "name": "python"
    }
  },
  "cells": [
    {
      "cell_type": "markdown",
      "metadata": {
        "id": "view-in-github",
        "colab_type": "text"
      },
      "source": [
        "<a href=\"https://colab.research.google.com/github/Augusta02/Basic-Python-Projects/blob/main/Python_Task.ipynb\" target=\"_parent\"><img src=\"https://colab.research.google.com/assets/colab-badge.svg\" alt=\"Open In Colab\"/></a>"
      ]
    },
    {
      "cell_type": "code",
      "source": [
        "# Return a new set of identical items from set1 & set2\n",
        "def intersection_list(set1,set2):\n",
        "  return set(set1).intersection(set2)\n",
        "\n",
        "set1 = {10, 20, 30, 40, 50}\n",
        "set2 = {30, 40, 50, 60, 70}\n",
        "\n",
        "print(intersection_list(set1,set2))"
      ],
      "metadata": {
        "colab": {
          "base_uri": "https://localhost:8080/"
        },
        "id": "0iHkIq7qzeen",
        "outputId": "e7e13f44-1e9c-4754-f24f-34ec853897e4"
      },
      "execution_count": null,
      "outputs": [
        {
          "output_type": "stream",
          "name": "stdout",
          "text": [
            "{40, 50, 30}\n"
          ]
        }
      ]
    },
    {
      "cell_type": "code",
      "source": [
        "# Create a python program that can help a user print out email addresses with a specific hostname from a list of email addresses. (your function will accept two parameters; email list and the hosting address to be looked out for)\n",
        "\n",
        "email_list= ['joyfloyd2@hotmail.com', 'jb23forever@yahoo.com', 'adesade4@gmail.com', 'bimpeadeola@gmail.com', 'harunaika@yahoo.com', 'chikaoluchi@gmail.com', 'sweetheart4eva@hotmail.com', 'fionashrek@gmail.com', 'peace_goodness@hotmail.com', 'edumd@yahoo.com']\n",
        "def email_extractor(email_list, host_name):\n",
        "  \"\"\"Output an email address with a specific hostname\"\"\"\n",
        "  for email in email_list:\n",
        "    if host_name == email.split('@') [+1]:\n",
        "      return(host_name)\n",
        "email_list= ['joyfloyd2@hotmail.com', 'jb23forever@yahoo.com', 'adesade4@gmail.com', 'bimpeadeola@gmail.com', 'harunaika@yahoo.com', 'chikaoluchi@gmail.com', 'sweetheart4eva@hotmail.com', 'fionashrek@gmail.com', 'peace_goodness@hotmail.com', 'edumd@yahoo.com']\n",
        "\n"
      ],
      "metadata": {
        "id": "quNd_kYK6xXU"
      },
      "execution_count": 2,
      "outputs": []
    },
    {
      "cell_type": "code",
      "source": [
        "# Create a simple calculator that can add, subtract, multiply or divide depending upon the input from the user.\n",
        "\n",
        "num= int(input(\"Enter a number:\"))\n",
        "# prompts user to enter a number\n",
        "num_2 = int(input(\"Enter a number:\"))\n",
        "\n",
        "# prompts user to enter a second number\n",
        "operation= input(\"Enter an operation:\")\n",
        "# prompts user to enter an operation\n",
        "\"\"\"Simple Caluculator that multiples, adds, divides and subtracts a number\n",
        "\n",
        "INPUT:\n",
        "num: int. This is the first number inputted by the user.\n",
        "num_2: int. This is the second number inputted by the user.\n",
        "operation: This is the operation that would be inputted by the user and either adds, multiplies, subtracts or divides the number inputtted\n",
        "\"\"\"\n",
        "if operation == \"*\":\n",
        "  print(num * num_2)\n",
        "elif operation == \"+\":\n",
        "  print(num + num_2)\n",
        "elif operation == \"/\":\n",
        "  print(num / num_2)\n",
        "else:\n",
        "  print(num - num_2)"
      ],
      "metadata": {
        "colab": {
          "base_uri": "https://localhost:8080/"
        },
        "id": "uccisf-hAfvu",
        "outputId": "2bbe0077-5448-4070-f806-e0bf1695ebda"
      },
      "execution_count": null,
      "outputs": [
        {
          "output_type": "stream",
          "name": "stdout",
          "text": [
            "Enter a number:30\n",
            "Enter a number:2\n",
            "Enter an operation:-\n",
            "28\n"
          ]
        }
      ]
    },
    {
      "cell_type": "code",
      "source": [
        "\n",
        "def counter(test_list):\n",
        "\n",
        "  n_counter = 0\n",
        "  m = []\n",
        "  for n in test_list:\n",
        "    if n > 30:\n",
        "      n_counter+=1\n",
        "      m.append(n)\n",
        "      print(m)\n",
        "      print(\"{} is the number of counts greater than 30\".format(n_counter))\n",
        "\n",
        "counter([1, 4, 62, 78, 32, 23, 90, 24, 2, 34, 28, 18, 12, 64, 50, 11, -1, 0, 30])\n",
        "  \n",
        "  "
      ],
      "metadata": {
        "colab": {
          "base_uri": "https://localhost:8080/"
        },
        "id": "nIE658fXF0C8",
        "outputId": "de61069b-d05c-44ca-fa54-1c46727fb021"
      },
      "execution_count": null,
      "outputs": [
        {
          "output_type": "stream",
          "name": "stdout",
          "text": [
            "[62]\n",
            "1 is the number of counts greater than 30\n",
            "[62, 78]\n",
            "2 is the number of counts greater than 30\n",
            "[62, 78, 32]\n",
            "3 is the number of counts greater than 30\n",
            "[62, 78, 32, 90]\n",
            "4 is the number of counts greater than 30\n",
            "[62, 78, 32, 90, 34]\n",
            "5 is the number of counts greater than 30\n",
            "[62, 78, 32, 90, 34, 64]\n",
            "6 is the number of counts greater than 30\n",
            "[62, 78, 32, 90, 34, 64, 50]\n",
            "7 is the number of counts greater than 30\n"
          ]
        }
      ]
    },
    {
      "cell_type": "code",
      "source": [
        "def counter(test_list):\n",
        "      n_counter = 0\n",
        "      m = []\n",
        "      for n in test_list:\n",
        "          if n > 30:\n",
        "              n_counter+=1\n",
        "              m.append(n)\n",
        "              print(m)\n",
        "              print(\"{} is the number of counts greater than 30\".format(n_counter))"
      ],
      "metadata": {
        "id": "aYTcNBNlrABe"
      },
      "execution_count": null,
      "outputs": []
    },
    {
      "cell_type": "code",
      "source": [
        "customer_name= str(input(\"Enter name:\"))\n",
        "Customer_title= customer_name.title()\n",
        "unit1= int(input(\"Enter number of Red scarves\"))\n",
        "unit2= int(input(\"Enter number of blue scarves\"))\n",
        "unit3= int(input(\"Enter number of white scarves\"))\n",
        "red_price= 500*unit1\n",
        "blue_price= 750*unit2\n",
        "white_price= 800*unit3\n",
        "Total_spent= (red_price + blue_price + white_price)\n",
        "date= input('Enter Date of purchase:')\n",
        "date_title= date.title()\n",
        "\n",
        "invoice= 'Name: {} \\n {} Red scarves \\n {} Blue Scarves\\n {} White Scarves\\n Total order: {} \\n Date: {}'.format(Customer_title,unit1,unit2,unit3,Total_spent,date_title)\n",
        "print(invoice)"
      ],
      "metadata": {
        "colab": {
          "base_uri": "https://localhost:8080/"
        },
        "id": "9ak0O6J1Uxuo",
        "outputId": "81cc3c44-262c-4591-9174-129570d33790"
      },
      "execution_count": null,
      "outputs": [
        {
          "output_type": "stream",
          "name": "stdout",
          "text": [
            "Enter name:jahn\n",
            "Enter number of Red scarves4\n",
            "Enter number of blue scarves5\n",
            "Enter number of white scarves9\n",
            "Enter Date of purchase:10/2/2022\n",
            "Name: Jahn \n",
            " 4 Red scarves \n",
            " 5 Blue Scarves \n",
            "  9 White Scarves\n",
            " Total order: 12950 \n",
            " Date: 10/2/2022\n"
          ]
        }
      ]
    },
    {
      "cell_type": "code",
      "source": [
        "num= range(21)\n",
        "for i in num:\n",
        "  if (i % 2 != 0):\n",
        "    print(i, end=\" \")"
      ],
      "metadata": {
        "id": "jYFq5qS_YB9S"
      },
      "execution_count": null,
      "outputs": []
    },
    {
      "cell_type": "code",
      "source": [
        "def fizz_buzz(num):\n",
        "  if (num % 3 == 0) and (num % 5 == 0):\n",
        "    # check if number is divisible by 3 and 5\n",
        "    print(\"FizzBuzz\")\n",
        "  elif num % 3 == 0:\n",
        "    # check if number is divisible by 3\n",
        "    print(\"Fizz\")\n",
        "  elif (num % 5 == 0):\n",
        "  # check if number is divisible by 5\n",
        "    print(\"Buzz\")\n",
        "  else:\n",
        "    # if number is not divisible by either 3 or 5 print the number\n",
        "    print(num)\n",
        "fizz_buzz(2)"
      ],
      "metadata": {
        "colab": {
          "base_uri": "https://localhost:8080/"
        },
        "id": "7rVp9Sq3dR90",
        "outputId": "d58e2466-615d-45c5-e5ab-9feda7f2800d"
      },
      "execution_count": null,
      "outputs": [
        {
          "output_type": "stream",
          "name": "stdout",
          "text": [
            "2\n"
          ]
        }
      ]
    },
    {
      "cell_type": "code",
      "source": [
        "def speed_check(speed):\n",
        "  if speed <= 70:\n",
        "    print(\"OKAY\")\n",
        "  else:\n",
        "    new_speed= (speed - 70)// 5\n",
        "\n",
        "    if new_speed <= 12:\n",
        "      print('Points {}'.format(new_speed))\n",
        "    \n",
        "    else:\n",
        "      print(\"License Suspended\")\n",
        "speed_check(205)"
      ],
      "metadata": {
        "colab": {
          "base_uri": "https://localhost:8080/"
        },
        "id": "h2tBzRhWk27Z",
        "outputId": "1f3e395a-8040-4b93-989a-48395a18a4a6"
      },
      "execution_count": null,
      "outputs": [
        {
          "output_type": "stream",
          "name": "stdout",
          "text": [
            "License Suspended\n"
          ]
        }
      ]
    },
    {
      "cell_type": "code",
      "source": [
        "def fibonacci(count):\n",
        "   listA = [0, 1]\n",
        "\n",
        "   any(map(lambda _:listA.append(sum(listA[-2:])),\n",
        "         range(2, count)))\n",
        "\n",
        "   return listA[:count]\n",
        "\n",
        "print(fibonacci(6))"
      ],
      "metadata": {
        "colab": {
          "base_uri": "https://localhost:8080/"
        },
        "id": "NS27HNwfn0Xi",
        "outputId": "194efa8e-5f9f-46a3-e786-684b31417497"
      },
      "execution_count": null,
      "outputs": [
        {
          "output_type": "stream",
          "name": "stdout",
          "text": [
            "[0, 1, 1, 2, 3, 5]\n"
          ]
        }
      ]
    }
  ]
}