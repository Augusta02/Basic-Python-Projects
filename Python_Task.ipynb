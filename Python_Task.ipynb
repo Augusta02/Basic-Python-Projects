{
  "nbformat": 4,
  "nbformat_minor": 0,
  "metadata": {
    "colab": {
      "name": "Python Task.ipynb",
      "provenance": [],
      "authorship_tag": "ABX9TyO0u2/mfEz69QfipnmQ4YFw",
      "include_colab_link": true
    },
    "kernelspec": {
      "name": "python3",
      "display_name": "Python 3"
    },
    "language_info": {
      "name": "python"
    }
  },
  "cells": [
    {
      "cell_type": "markdown",
      "metadata": {
        "id": "view-in-github",
        "colab_type": "text"
      },
      "source": [
        "<a href=\"https://colab.research.google.com/github/Augusta02/Basic-Python-Projects/blob/main/Python_Task.ipynb\" target=\"_parent\"><img src=\"https://colab.research.google.com/assets/colab-badge.svg\" alt=\"Open In Colab\"/></a>"
      ]
    },
    {
      "cell_type": "code",
      "source": [
        "# Return a new set of identical items from set1 & set2\n",
        "def intersection_list(set1,set2):\n",
        "  return (set1).intersection(set2)\n",
        "\n",
        "set1 = {10, 20, 30, 40, 50}\n",
        "set2 = {30, 40, 50, 60, 70}\n",
        "\n",
        "print(intersection_list(set1,set2))"
      ],
      "metadata": {
        "colab": {
          "base_uri": "https://localhost:8080/"
        },
        "id": "0iHkIq7qzeen",
        "outputId": "5975c30f-0f06-41db-c0dd-ebe008555591"
      },
      "execution_count": null,
      "outputs": [
        {
          "output_type": "stream",
          "name": "stdout",
          "text": [
            "{40, 50, 30}\n"
          ]
        }
      ]
    },
    {
      "cell_type": "code",
      "source": [
        "#  Create a function that counts the number of elements within a list that are greater than 30 and outputs a custom message with the count. The function should return the numbers that meet the condition.\n",
        "\n",
        "counter= [1, 4, 62, 78, 32, 23, 90, 24, 2, 34, 28, 18, 12, 64, 50, 11, -1, 0, 30]\n",
        "m = [ num for num in counter if num > 30]\n",
        "print(\"There are \" + str(len(m))+ \" \" + \"numbers greater than 30 in the counter list. \\nThese are the numbers:\" + str(m)[1:-1])\n",
        "# str(list)[1:-1] removes the square brackets in the list\n",
        "print(m)\n",
        "\n",
        "\n",
        "\n",
        "\n",
        "\n"
      ],
      "metadata": {
        "colab": {
          "base_uri": "https://localhost:8080/"
        },
        "id": "xJp_1enUNQMF",
        "outputId": "15ea4dea-1576-46d3-9941-376d1faa21e5"
      },
      "execution_count": null,
      "outputs": [
        {
          "output_type": "stream",
          "name": "stdout",
          "text": [
            "There are 7 numbers greater than 30 in the counter list. \n",
            "These are the numbers:62, 78, 32, 90, 34, 64, 50\n",
            "[62, 78, 32, 90, 34, 64, 50]\n"
          ]
        }
      ]
    },
    {
      "cell_type": "code",
      "source": [
        "# Create a python program that can help a user print out email addresses with a specific hostname from a list of email addresses. (your function will accept two parameters; email list and the hosting address to be looked out for)\n",
        "\n",
        "email_list= ['joyfloyd2@hotmail.com', 'jb23forever@yahoo.com', 'adesade4@gmail.com', 'bimpeadeola@gmail.com', 'harunaika@yahoo.com', 'chikaoluchi@gmail.com', 'sweetheart4eva@hotmail.com', 'fionashrek@gmail.com', 'peace_goodness@hotmail.com', 'edumd@yahoo.com']\n",
        "def email_extractor(email_list, host_name):\n",
        "  \"\"\"Output an email address with a specific hostname\"\"\"\n",
        "  for email in email_list:\n",
        "    if host_name == email.split('@') [+1]:\n",
        "      return(host_name)\n",
        "email_list= ['joyfloyd2@hotmail.com', 'jb23forever@yahoo.com', 'adesade4@gmail.com', 'bimpeadeola@gmail.com', 'harunaika@yahoo.com', 'chikaoluchi@gmail.com', 'sweetheart4eva@hotmail.com', 'fionashrek@gmail.com', 'peace_goodness@hotmail.com', 'edumd@yahoo.com']\n",
        "\n"
      ],
      "metadata": {
        "id": "quNd_kYK6xXU"
      },
      "execution_count": null,
      "outputs": []
    },
    {
      "cell_type": "code",
      "source": [
        "# Create a simple calculator that can add, subtract, multiply or divide depending upon the input from the user.\n",
        "\n",
        "num= int(input(\"Enter a number:\"))\n",
        "# prompts user to enter a number\n",
        "num_2 = int(input(\"Enter a number:\"))\n",
        "\n",
        "# prompts user to enter a second number\n",
        "operation= input(\"Enter an operation:\")\n",
        "# prompts user to enter an operation\n",
        "\"\"\"Simple Caluculator that multiples, adds, divides and subtracts a number\n",
        "\n",
        "INPUT:\n",
        "num: int. This is the first number inputted by the user.\n",
        "num_2: int. This is the second number inputted by the user.\n",
        "operation: This is the operation that would be inputted by the user and either adds, multiplies, subtracts or divides the number inputtted\n",
        "\"\"\"\n",
        "if operation == \"*\":\n",
        "  print(num * num_2)\n",
        "elif operation == \"+\":\n",
        "  print(num + num_2)\n",
        "elif operation == \"/\":\n",
        "  print(num / num_2)\n",
        "else:\n",
        "  print(num - num_2)"
      ],
      "metadata": {
        "colab": {
          "base_uri": "https://localhost:8080/"
        },
        "id": "uccisf-hAfvu",
        "outputId": "2bbe0077-5448-4070-f806-e0bf1695ebda"
      },
      "execution_count": null,
      "outputs": [
        {
          "output_type": "stream",
          "name": "stdout",
          "text": [
            "Enter a number:30\n",
            "Enter a number:2\n",
            "Enter an operation:-\n",
            "28\n"
          ]
        }
      ]
    },
    {
      "cell_type": "markdown",
      "source": [
        "\n",
        "Build an app that can raise invoices for each customer that makes an order\n",
        "We have a store that sells scarfs in large quantities. They have different types of scarf\n",
        "Red scarfs go for ₦500 per unit\n",
        "Blue scarfs go for ₦750 per unit\n",
        "White scarfs go for ₦800 per unit\n",
        "Our application should work as follows:\n",
        "Get customer information through user input\n",
        "customer name, \n",
        "\n",
        "1.   customer name, \n",
        "\n",
        "2.   Scarf colour\n",
        "\n",
        "3.   order quantity per scarf\n",
        "\n",
        "4.   date order was made\n",
        "\n",
        "5. The customer name should be properly cleaned and processed to ensure that it's in the title case (strip all white spaces)\n",
        "\n",
        "6. The customer's total spending for that order should be calculated.\n",
        "Your app should then generate the customer’s invoice.\n",
        "\n",
        "---\n",
        "\n"
      ],
      "metadata": {
        "id": "G_Ri1c3pxdpY"
      }
    },
    {
      "cell_type": "code",
      "source": [
        "from datetime import date\n",
        "today= date.today()\n",
        "\n",
        "redScarves= 500\n",
        "blueScarves= 700\n",
        "whiteScarves= 850\n",
        "\n",
        "def invoice():\n",
        "  print(\"Name of Customer\")\n",
        "  customer= input(\"Enter Customer's name: \")\n",
        "\n",
        "  customer_title= \" \".join(customer.split()).title()\n",
        "  # It combines split() + join() to remove additional space from string \n",
        "\n",
        "  print(\"Number of Red Scarves: \")\n",
        "  num_redScarves= int(input())\n",
        "\n",
        "  print(\"Number of Blue Scarves: \")\n",
        "  num_blueScarves= int(input())\n",
        "\n",
        "  print(\"Number of White Scarves: \")\n",
        "  num_whiteScarves= int(input())\n",
        "\n",
        "  order_Price = (redScarves * num_redScarves) + (blueScarves * num_blueScarves) + (whiteScarves * num_whiteScarves)\n",
        "  current_Date_Formated = today.strftime(\"%b \" + \"%d, \" + \"%Y\")  #It formats today to get the name of the month, the day of the month and the current year\n",
        "    \n",
        "  print(\"Name: \" + customer_title + \" \\nRed scarf: \" + str(num_redScarves) + \" \\nBlue scarf: \" + str(num_blueScarves) + \" \\nWhite scarf: \" + str(num_whiteScarves) + \" \\nOrder price: ₦\" + str(order_Price) + \" \\nDate ordered: \" + current_Date_Formated)    \n",
        "\n",
        "invoice()"
      ],
      "metadata": {
        "colab": {
          "base_uri": "https://localhost:8080/"
        },
        "id": "Msd1Yu-hUCgP",
        "outputId": "516f9f9d-cbc9-4f59-a76b-c1a4afb1b154"
      },
      "execution_count": null,
      "outputs": [
        {
          "output_type": "stream",
          "name": "stdout",
          "text": [
            "Name of Customer\n",
            "Enter Customer's name: c\n",
            "Number of Red Scarves: \n",
            "78\n",
            "Number of Blue Scarves: \n",
            "9\n",
            "Number of White Scarves: \n",
            "7\n",
            "Name: C \n",
            "Red scarf: 78 \n",
            "Blue scarf: 9 \n",
            "White scarf: 7 \n",
            "Order price: ₦51250 \n",
            "Date ordered: Jan 11, 2022\n"
          ]
        }
      ]
    },
    {
      "cell_type": "markdown",
      "source": [
        "Write a Python program that prints all the numbers from 0 to 20 except even numbers\n"
      ],
      "metadata": {
        "id": "Da4y_s38yTYZ"
      }
    },
    {
      "cell_type": "code",
      "source": [
        "num= range(21)\n",
        "for i in num:\n",
        "  # loop iterates through the numbers 0 to 21\n",
        "  if (i % 2 != 0):\n",
        "    # if i is has a remainder that is not equal to 0 its an odd number\n",
        "    print(i, end=\" \")\n",
        "    # print the odd number"
      ],
      "metadata": {
        "id": "jYFq5qS_YB9S",
        "colab": {
          "base_uri": "https://localhost:8080/"
        },
        "outputId": "f6c029b6-25f7-4f1f-8869-4ff7520496ca"
      },
      "execution_count": 50,
      "outputs": [
        {
          "output_type": "stream",
          "name": "stdout",
          "text": [
            "1 3 5 7 9 11 13 15 17 19 "
          ]
        }
      ]
    },
    {
      "cell_type": "markdown",
      "source": [
        "Write a function called fizz_buzz that takes a number.\n",
        "1.  If the number is divisible by 3, it should return “Fizz”. \n",
        "2. If it is divisible by 5, it should return “Buzz”.\n",
        "3. If it is divisible by both 3 and 5, it should return “FizzBuzz”.\n",
        "4. Otherwise, it should return the same number.\n"
      ],
      "metadata": {
        "id": "CRyfyNQLy6Cp"
      }
    },
    {
      "cell_type": "code",
      "source": [
        "def fizz_buzz(num):\n",
        "  if (num % 3 == 0) and (num % 5 == 0):\n",
        "    # check if number is divisible by 3 and 5\n",
        "    print(\"FizzBuzz\")\n",
        "  elif num % 3 == 0:\n",
        "    # check if number is divisible by 3\n",
        "    print(\"Fizz\")\n",
        "  elif (num % 5 == 0):\n",
        "  # check if number is divisible by 5\n",
        "    print(\"Buzz\")\n",
        "  else:\n",
        "    # if number is not divisible by either 3 or 5 print the number\n",
        "    print(num)\n",
        "fizz_buzz(2)"
      ],
      "metadata": {
        "colab": {
          "base_uri": "https://localhost:8080/"
        },
        "id": "7rVp9Sq3dR90",
        "outputId": "d58e2466-615d-45c5-e5ab-9feda7f2800d"
      },
      "execution_count": null,
      "outputs": [
        {
          "output_type": "stream",
          "name": "stdout",
          "text": [
            "2\n"
          ]
        }
      ]
    },
    {
      "cell_type": "markdown",
      "source": [
        "Write a function for checking the speed of drivers. This function should have one parameter: speed.\n",
        "1. if speed is less than 70km/h, it should print “Ok”.\n",
        "2. Otherwise, for every 5km above the speed limit (70), it should give the driver one demerit point and print the total number of demerit points. For example, if the speed is 80, it should print: “Points: 2”.\n",
        "3. If the driver gets more than 12 points, the function should print: “License suspended”\n"
      ],
      "metadata": {
        "id": "8GaNRZCUz3-J"
      }
    },
    {
      "cell_type": "code",
      "source": [
        "def speed_check(speed):\n",
        "  if speed <= 70:\n",
        "    print(\"OKAY\")\n",
        "  else:\n",
        "    new_speed= (speed - 70)// 5\n",
        "\n",
        "    if new_speed <= 12:\n",
        "      print('Points {}'.format(new_speed))\n",
        "    \n",
        "    else:\n",
        "      print(\"License Suspended\")\n",
        "speed_check(205)"
      ],
      "metadata": {
        "colab": {
          "base_uri": "https://localhost:8080/"
        },
        "id": "h2tBzRhWk27Z",
        "outputId": "1f3e395a-8040-4b93-989a-48395a18a4a6"
      },
      "execution_count": null,
      "outputs": [
        {
          "output_type": "stream",
          "name": "stdout",
          "text": [
            "License Suspended\n"
          ]
        }
      ]
    },
    {
      "cell_type": "markdown",
      "source": [
        "Write a Python program to create Fibonacci series up to ‘n’ using Lambda."
      ],
      "metadata": {
        "id": "X8lmAkf_0ELI"
      }
    },
    {
      "cell_type": "code",
      "source": [
        "def fibonacci(count):\n",
        "   listA = [0, 1]\n",
        "\n",
        "   any(map(lambda _:listA.append(sum(listA[-2:])),\n",
        "         range(2, count)))\n",
        "\n",
        "   return listA[:count]\n",
        "\n",
        "print(fibonacci(6))"
      ],
      "metadata": {
        "colab": {
          "base_uri": "https://localhost:8080/"
        },
        "id": "NS27HNwfn0Xi",
        "outputId": "194efa8e-5f9f-46a3-e786-684b31417497"
      },
      "execution_count": null,
      "outputs": [
        {
          "output_type": "stream",
          "name": "stdout",
          "text": [
            "[0, 1, 1, 2, 3, 5]\n"
          ]
        }
      ]
    }
  ]
}